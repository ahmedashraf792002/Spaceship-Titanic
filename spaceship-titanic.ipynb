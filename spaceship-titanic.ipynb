{
 "cells": [
  {
   "cell_type": "code",
   "execution_count": 1,
   "id": "410344ea",
   "metadata": {
    "_cell_guid": "b1076dfc-b9ad-4769-8c92-a6c4dae69d19",
    "_uuid": "8f2839f25d086af736a60e9eeb907d3b93b6e0e5",
    "execution": {
     "iopub.execute_input": "2022-11-30T16:53:27.430748Z",
     "iopub.status.busy": "2022-11-30T16:53:27.430040Z",
     "iopub.status.idle": "2022-11-30T16:53:27.447643Z",
     "shell.execute_reply": "2022-11-30T16:53:27.446122Z"
    },
    "papermill": {
     "duration": 0.036584,
     "end_time": "2022-11-30T16:53:27.451537",
     "exception": false,
     "start_time": "2022-11-30T16:53:27.414953",
     "status": "completed"
    },
    "tags": []
   },
   "outputs": [
    {
     "name": "stdout",
     "output_type": "stream",
     "text": [
      "/kaggle/input/spaceship-titanic/sample_submission.csv\n",
      "/kaggle/input/spaceship-titanic/train.csv\n",
      "/kaggle/input/spaceship-titanic/test.csv\n"
     ]
    }
   ],
   "source": [
    "# This Python 3 environment comes with many helpful analytics libraries installed\n",
    "# It is defined by the kaggle/python Docker image: https://github.com/kaggle/docker-python\n",
    "# For example, here's several helpful packages to load\n",
    "\n",
    "import numpy as np # linear algebra\n",
    "import pandas as pd # data processing, CSV file I/O (e.g. pd.read_csv)\n",
    "\n",
    "# Input data files are available in the read-only \"../input/\" directory\n",
    "# For example, running this (by clicking run or pressing Shift+Enter) will list all files under the input directory\n",
    "\n",
    "import os\n",
    "for dirname, _, filenames in os.walk('/kaggle/input'):\n",
    "    for filename in filenames:\n",
    "        print(os.path.join(dirname, filename))\n",
    "\n",
    "# You can write up to 20GB to the current directory (/kaggle/working/) that gets preserved as output when you create a version using \"Save & Run All\" \n",
    "# You can also write temporary files to /kaggle/temp/, but they won't be saved outside of the current session"
   ]
  },
  {
   "cell_type": "markdown",
   "id": "c2387e64",
   "metadata": {
    "papermill": {
     "duration": 0.013358,
     "end_time": "2022-11-30T16:53:27.477445",
     "exception": false,
     "start_time": "2022-11-30T16:53:27.464087",
     "status": "completed"
    },
    "tags": []
   },
   "source": [
    "#  Import Libraries"
   ]
  },
  {
   "cell_type": "code",
   "execution_count": 2,
   "id": "d52607fc",
   "metadata": {
    "execution": {
     "iopub.execute_input": "2022-11-30T16:53:27.502565Z",
     "iopub.status.busy": "2022-11-30T16:53:27.501635Z",
     "iopub.status.idle": "2022-11-30T16:53:28.942115Z",
     "shell.execute_reply": "2022-11-30T16:53:28.940528Z"
    },
    "papermill": {
     "duration": 1.456703,
     "end_time": "2022-11-30T16:53:28.945405",
     "exception": false,
     "start_time": "2022-11-30T16:53:27.488702",
     "status": "completed"
    },
    "tags": []
   },
   "outputs": [],
   "source": [
    "import pandas as pd\n",
    "import numpy as np\n",
    "from sklearn.impute import SimpleImputer\n",
    "from sklearn.model_selection import train_test_split\n",
    "from sklearn.preprocessing import LabelEncoder\n",
    "from sklearn.ensemble import RandomForestClassifier\n",
    "from sklearn.preprocessing import MinMaxScaler\n",
    "import seaborn as sns\n",
    "from sklearn.metrics import confusion_matrix,accuracy_score,f1_score,precision_score,classification_report\n",
    "import matplotlib.pyplot as plt\n",
    "from sklearn.linear_model import LogisticRegression\n",
    "from sklearn.svm import SVC\n",
    "from sklearn.tree import DecisionTreeClassifier\n",
    "from sklearn.neural_network import MLPClassifier\n",
    "from sklearn.neighbors import KNeighborsClassifier\n",
    "from sklearn.model_selection import GridSearchCV\n",
    "from sklearn.feature_selection import SelectFromModel\n",
    "from sklearn.preprocessing import PolynomialFeatures"
   ]
  },
  {
   "cell_type": "markdown",
   "id": "3d0cdb77",
   "metadata": {
    "papermill": {
     "duration": 0.017778,
     "end_time": "2022-11-30T16:53:28.978200",
     "exception": false,
     "start_time": "2022-11-30T16:53:28.960422",
     "status": "completed"
    },
    "tags": []
   },
   "source": [
    "# Read Data"
   ]
  },
  {
   "cell_type": "code",
   "execution_count": 3,
   "id": "3f94d594",
   "metadata": {
    "execution": {
     "iopub.execute_input": "2022-11-30T16:53:29.011241Z",
     "iopub.status.busy": "2022-11-30T16:53:29.010586Z",
     "iopub.status.idle": "2022-11-30T16:53:29.095299Z",
     "shell.execute_reply": "2022-11-30T16:53:29.093877Z"
    },
    "papermill": {
     "duration": 0.102405,
     "end_time": "2022-11-30T16:53:29.098434",
     "exception": false,
     "start_time": "2022-11-30T16:53:28.996029",
     "status": "completed"
    },
    "tags": []
   },
   "outputs": [],
   "source": [
    "train_data=pd.read_csv('../input/spaceship-titanic/train.csv')\n",
    "test_data=pd.read_csv('../input/spaceship-titanic/test.csv')"
   ]
  },
  {
   "cell_type": "markdown",
   "id": "c31b75af",
   "metadata": {
    "papermill": {
     "duration": 0.011096,
     "end_time": "2022-11-30T16:53:29.121109",
     "exception": false,
     "start_time": "2022-11-30T16:53:29.110013",
     "status": "completed"
    },
    "tags": []
   },
   "source": [
    "# Show 5 frist row data"
   ]
  },
  {
   "cell_type": "code",
   "execution_count": 4,
   "id": "3b5dc773",
   "metadata": {
    "execution": {
     "iopub.execute_input": "2022-11-30T16:53:29.146084Z",
     "iopub.status.busy": "2022-11-30T16:53:29.145575Z",
     "iopub.status.idle": "2022-11-30T16:53:29.177498Z",
     "shell.execute_reply": "2022-11-30T16:53:29.176249Z"
    },
    "papermill": {
     "duration": 0.047927,
     "end_time": "2022-11-30T16:53:29.180455",
     "exception": false,
     "start_time": "2022-11-30T16:53:29.132528",
     "status": "completed"
    },
    "tags": []
   },
   "outputs": [
    {
     "data": {
      "text/html": [
       "<div>\n",
       "<style scoped>\n",
       "    .dataframe tbody tr th:only-of-type {\n",
       "        vertical-align: middle;\n",
       "    }\n",
       "\n",
       "    .dataframe tbody tr th {\n",
       "        vertical-align: top;\n",
       "    }\n",
       "\n",
       "    .dataframe thead th {\n",
       "        text-align: right;\n",
       "    }\n",
       "</style>\n",
       "<table border=\"1\" class=\"dataframe\">\n",
       "  <thead>\n",
       "    <tr style=\"text-align: right;\">\n",
       "      <th></th>\n",
       "      <th>PassengerId</th>\n",
       "      <th>HomePlanet</th>\n",
       "      <th>CryoSleep</th>\n",
       "      <th>Cabin</th>\n",
       "      <th>Destination</th>\n",
       "      <th>Age</th>\n",
       "      <th>VIP</th>\n",
       "      <th>RoomService</th>\n",
       "      <th>FoodCourt</th>\n",
       "      <th>ShoppingMall</th>\n",
       "      <th>Spa</th>\n",
       "      <th>VRDeck</th>\n",
       "      <th>Name</th>\n",
       "      <th>Transported</th>\n",
       "    </tr>\n",
       "  </thead>\n",
       "  <tbody>\n",
       "    <tr>\n",
       "      <th>0</th>\n",
       "      <td>0001_01</td>\n",
       "      <td>Europa</td>\n",
       "      <td>False</td>\n",
       "      <td>B/0/P</td>\n",
       "      <td>TRAPPIST-1e</td>\n",
       "      <td>39.0</td>\n",
       "      <td>False</td>\n",
       "      <td>0.0</td>\n",
       "      <td>0.0</td>\n",
       "      <td>0.0</td>\n",
       "      <td>0.0</td>\n",
       "      <td>0.0</td>\n",
       "      <td>Maham Ofracculy</td>\n",
       "      <td>False</td>\n",
       "    </tr>\n",
       "    <tr>\n",
       "      <th>1</th>\n",
       "      <td>0002_01</td>\n",
       "      <td>Earth</td>\n",
       "      <td>False</td>\n",
       "      <td>F/0/S</td>\n",
       "      <td>TRAPPIST-1e</td>\n",
       "      <td>24.0</td>\n",
       "      <td>False</td>\n",
       "      <td>109.0</td>\n",
       "      <td>9.0</td>\n",
       "      <td>25.0</td>\n",
       "      <td>549.0</td>\n",
       "      <td>44.0</td>\n",
       "      <td>Juanna Vines</td>\n",
       "      <td>True</td>\n",
       "    </tr>\n",
       "    <tr>\n",
       "      <th>2</th>\n",
       "      <td>0003_01</td>\n",
       "      <td>Europa</td>\n",
       "      <td>False</td>\n",
       "      <td>A/0/S</td>\n",
       "      <td>TRAPPIST-1e</td>\n",
       "      <td>58.0</td>\n",
       "      <td>True</td>\n",
       "      <td>43.0</td>\n",
       "      <td>3576.0</td>\n",
       "      <td>0.0</td>\n",
       "      <td>6715.0</td>\n",
       "      <td>49.0</td>\n",
       "      <td>Altark Susent</td>\n",
       "      <td>False</td>\n",
       "    </tr>\n",
       "    <tr>\n",
       "      <th>3</th>\n",
       "      <td>0003_02</td>\n",
       "      <td>Europa</td>\n",
       "      <td>False</td>\n",
       "      <td>A/0/S</td>\n",
       "      <td>TRAPPIST-1e</td>\n",
       "      <td>33.0</td>\n",
       "      <td>False</td>\n",
       "      <td>0.0</td>\n",
       "      <td>1283.0</td>\n",
       "      <td>371.0</td>\n",
       "      <td>3329.0</td>\n",
       "      <td>193.0</td>\n",
       "      <td>Solam Susent</td>\n",
       "      <td>False</td>\n",
       "    </tr>\n",
       "    <tr>\n",
       "      <th>4</th>\n",
       "      <td>0004_01</td>\n",
       "      <td>Earth</td>\n",
       "      <td>False</td>\n",
       "      <td>F/1/S</td>\n",
       "      <td>TRAPPIST-1e</td>\n",
       "      <td>16.0</td>\n",
       "      <td>False</td>\n",
       "      <td>303.0</td>\n",
       "      <td>70.0</td>\n",
       "      <td>151.0</td>\n",
       "      <td>565.0</td>\n",
       "      <td>2.0</td>\n",
       "      <td>Willy Santantines</td>\n",
       "      <td>True</td>\n",
       "    </tr>\n",
       "  </tbody>\n",
       "</table>\n",
       "</div>"
      ],
      "text/plain": [
       "  PassengerId HomePlanet CryoSleep  Cabin  Destination   Age    VIP  \\\n",
       "0     0001_01     Europa     False  B/0/P  TRAPPIST-1e  39.0  False   \n",
       "1     0002_01      Earth     False  F/0/S  TRAPPIST-1e  24.0  False   \n",
       "2     0003_01     Europa     False  A/0/S  TRAPPIST-1e  58.0   True   \n",
       "3     0003_02     Europa     False  A/0/S  TRAPPIST-1e  33.0  False   \n",
       "4     0004_01      Earth     False  F/1/S  TRAPPIST-1e  16.0  False   \n",
       "\n",
       "   RoomService  FoodCourt  ShoppingMall     Spa  VRDeck               Name  \\\n",
       "0          0.0        0.0           0.0     0.0     0.0    Maham Ofracculy   \n",
       "1        109.0        9.0          25.0   549.0    44.0       Juanna Vines   \n",
       "2         43.0     3576.0           0.0  6715.0    49.0      Altark Susent   \n",
       "3          0.0     1283.0         371.0  3329.0   193.0       Solam Susent   \n",
       "4        303.0       70.0         151.0   565.0     2.0  Willy Santantines   \n",
       "\n",
       "   Transported  \n",
       "0        False  \n",
       "1         True  \n",
       "2        False  \n",
       "3        False  \n",
       "4         True  "
      ]
     },
     "execution_count": 4,
     "metadata": {},
     "output_type": "execute_result"
    }
   ],
   "source": [
    "train_data.head()"
   ]
  },
  {
   "cell_type": "markdown",
   "id": "985efc14",
   "metadata": {
    "papermill": {
     "duration": 0.011394,
     "end_time": "2022-11-30T16:53:29.203579",
     "exception": false,
     "start_time": "2022-11-30T16:53:29.192185",
     "status": "completed"
    },
    "tags": []
   },
   "source": [
    "# Describe Data"
   ]
  },
  {
   "cell_type": "code",
   "execution_count": 5,
   "id": "72b77cd4",
   "metadata": {
    "execution": {
     "iopub.execute_input": "2022-11-30T16:53:29.230318Z",
     "iopub.status.busy": "2022-11-30T16:53:29.229375Z",
     "iopub.status.idle": "2022-11-30T16:53:29.273678Z",
     "shell.execute_reply": "2022-11-30T16:53:29.272238Z"
    },
    "papermill": {
     "duration": 0.061429,
     "end_time": "2022-11-30T16:53:29.277172",
     "exception": false,
     "start_time": "2022-11-30T16:53:29.215743",
     "status": "completed"
    },
    "tags": []
   },
   "outputs": [
    {
     "data": {
      "text/html": [
       "<div>\n",
       "<style scoped>\n",
       "    .dataframe tbody tr th:only-of-type {\n",
       "        vertical-align: middle;\n",
       "    }\n",
       "\n",
       "    .dataframe tbody tr th {\n",
       "        vertical-align: top;\n",
       "    }\n",
       "\n",
       "    .dataframe thead th {\n",
       "        text-align: right;\n",
       "    }\n",
       "</style>\n",
       "<table border=\"1\" class=\"dataframe\">\n",
       "  <thead>\n",
       "    <tr style=\"text-align: right;\">\n",
       "      <th></th>\n",
       "      <th>Age</th>\n",
       "      <th>RoomService</th>\n",
       "      <th>FoodCourt</th>\n",
       "      <th>ShoppingMall</th>\n",
       "      <th>Spa</th>\n",
       "      <th>VRDeck</th>\n",
       "    </tr>\n",
       "  </thead>\n",
       "  <tbody>\n",
       "    <tr>\n",
       "      <th>count</th>\n",
       "      <td>8514.000000</td>\n",
       "      <td>8512.000000</td>\n",
       "      <td>8510.000000</td>\n",
       "      <td>8485.000000</td>\n",
       "      <td>8510.000000</td>\n",
       "      <td>8505.000000</td>\n",
       "    </tr>\n",
       "    <tr>\n",
       "      <th>mean</th>\n",
       "      <td>28.827930</td>\n",
       "      <td>224.687617</td>\n",
       "      <td>458.077203</td>\n",
       "      <td>173.729169</td>\n",
       "      <td>311.138778</td>\n",
       "      <td>304.854791</td>\n",
       "    </tr>\n",
       "    <tr>\n",
       "      <th>std</th>\n",
       "      <td>14.489021</td>\n",
       "      <td>666.717663</td>\n",
       "      <td>1611.489240</td>\n",
       "      <td>604.696458</td>\n",
       "      <td>1136.705535</td>\n",
       "      <td>1145.717189</td>\n",
       "    </tr>\n",
       "    <tr>\n",
       "      <th>min</th>\n",
       "      <td>0.000000</td>\n",
       "      <td>0.000000</td>\n",
       "      <td>0.000000</td>\n",
       "      <td>0.000000</td>\n",
       "      <td>0.000000</td>\n",
       "      <td>0.000000</td>\n",
       "    </tr>\n",
       "    <tr>\n",
       "      <th>25%</th>\n",
       "      <td>19.000000</td>\n",
       "      <td>0.000000</td>\n",
       "      <td>0.000000</td>\n",
       "      <td>0.000000</td>\n",
       "      <td>0.000000</td>\n",
       "      <td>0.000000</td>\n",
       "    </tr>\n",
       "    <tr>\n",
       "      <th>50%</th>\n",
       "      <td>27.000000</td>\n",
       "      <td>0.000000</td>\n",
       "      <td>0.000000</td>\n",
       "      <td>0.000000</td>\n",
       "      <td>0.000000</td>\n",
       "      <td>0.000000</td>\n",
       "    </tr>\n",
       "    <tr>\n",
       "      <th>75%</th>\n",
       "      <td>38.000000</td>\n",
       "      <td>47.000000</td>\n",
       "      <td>76.000000</td>\n",
       "      <td>27.000000</td>\n",
       "      <td>59.000000</td>\n",
       "      <td>46.000000</td>\n",
       "    </tr>\n",
       "    <tr>\n",
       "      <th>max</th>\n",
       "      <td>79.000000</td>\n",
       "      <td>14327.000000</td>\n",
       "      <td>29813.000000</td>\n",
       "      <td>23492.000000</td>\n",
       "      <td>22408.000000</td>\n",
       "      <td>24133.000000</td>\n",
       "    </tr>\n",
       "  </tbody>\n",
       "</table>\n",
       "</div>"
      ],
      "text/plain": [
       "               Age   RoomService     FoodCourt  ShoppingMall           Spa  \\\n",
       "count  8514.000000   8512.000000   8510.000000   8485.000000   8510.000000   \n",
       "mean     28.827930    224.687617    458.077203    173.729169    311.138778   \n",
       "std      14.489021    666.717663   1611.489240    604.696458   1136.705535   \n",
       "min       0.000000      0.000000      0.000000      0.000000      0.000000   \n",
       "25%      19.000000      0.000000      0.000000      0.000000      0.000000   \n",
       "50%      27.000000      0.000000      0.000000      0.000000      0.000000   \n",
       "75%      38.000000     47.000000     76.000000     27.000000     59.000000   \n",
       "max      79.000000  14327.000000  29813.000000  23492.000000  22408.000000   \n",
       "\n",
       "             VRDeck  \n",
       "count   8505.000000  \n",
       "mean     304.854791  \n",
       "std     1145.717189  \n",
       "min        0.000000  \n",
       "25%        0.000000  \n",
       "50%        0.000000  \n",
       "75%       46.000000  \n",
       "max    24133.000000  "
      ]
     },
     "execution_count": 5,
     "metadata": {},
     "output_type": "execute_result"
    }
   ],
   "source": [
    "train_data.describe()"
   ]
  },
  {
   "cell_type": "markdown",
   "id": "e5f7b71b",
   "metadata": {
    "papermill": {
     "duration": 0.011856,
     "end_time": "2022-11-30T16:53:29.301316",
     "exception": false,
     "start_time": "2022-11-30T16:53:29.289460",
     "status": "completed"
    },
    "tags": []
   },
   "source": [
    "# Data Info"
   ]
  },
  {
   "cell_type": "code",
   "execution_count": 6,
   "id": "3755bb3f",
   "metadata": {
    "execution": {
     "iopub.execute_input": "2022-11-30T16:53:29.327933Z",
     "iopub.status.busy": "2022-11-30T16:53:29.326996Z",
     "iopub.status.idle": "2022-11-30T16:53:29.349843Z",
     "shell.execute_reply": "2022-11-30T16:53:29.347872Z"
    },
    "papermill": {
     "duration": 0.04,
     "end_time": "2022-11-30T16:53:29.353420",
     "exception": false,
     "start_time": "2022-11-30T16:53:29.313420",
     "status": "completed"
    },
    "tags": []
   },
   "outputs": [
    {
     "name": "stdout",
     "output_type": "stream",
     "text": [
      "<class 'pandas.core.frame.DataFrame'>\n",
      "RangeIndex: 8693 entries, 0 to 8692\n",
      "Data columns (total 14 columns):\n",
      " #   Column        Non-Null Count  Dtype  \n",
      "---  ------        --------------  -----  \n",
      " 0   PassengerId   8693 non-null   object \n",
      " 1   HomePlanet    8492 non-null   object \n",
      " 2   CryoSleep     8476 non-null   object \n",
      " 3   Cabin         8494 non-null   object \n",
      " 4   Destination   8511 non-null   object \n",
      " 5   Age           8514 non-null   float64\n",
      " 6   VIP           8490 non-null   object \n",
      " 7   RoomService   8512 non-null   float64\n",
      " 8   FoodCourt     8510 non-null   float64\n",
      " 9   ShoppingMall  8485 non-null   float64\n",
      " 10  Spa           8510 non-null   float64\n",
      " 11  VRDeck        8505 non-null   float64\n",
      " 12  Name          8493 non-null   object \n",
      " 13  Transported   8693 non-null   bool   \n",
      "dtypes: bool(1), float64(6), object(7)\n",
      "memory usage: 891.5+ KB\n"
     ]
    }
   ],
   "source": [
    "train_data.info()"
   ]
  },
  {
   "cell_type": "markdown",
   "id": "12990a5c",
   "metadata": {
    "papermill": {
     "duration": 0.014881,
     "end_time": "2022-11-30T16:53:29.384668",
     "exception": false,
     "start_time": "2022-11-30T16:53:29.369787",
     "status": "completed"
    },
    "tags": []
   },
   "source": [
    "# Data corr"
   ]
  },
  {
   "cell_type": "code",
   "execution_count": 7,
   "id": "6f5ae611",
   "metadata": {
    "execution": {
     "iopub.execute_input": "2022-11-30T16:53:29.420283Z",
     "iopub.status.busy": "2022-11-30T16:53:29.418946Z",
     "iopub.status.idle": "2022-11-30T16:53:29.441008Z",
     "shell.execute_reply": "2022-11-30T16:53:29.439128Z"
    },
    "papermill": {
     "duration": 0.039906,
     "end_time": "2022-11-30T16:53:29.444183",
     "exception": false,
     "start_time": "2022-11-30T16:53:29.404277",
     "status": "completed"
    },
    "tags": []
   },
   "outputs": [
    {
     "data": {
      "text/html": [
       "<div>\n",
       "<style scoped>\n",
       "    .dataframe tbody tr th:only-of-type {\n",
       "        vertical-align: middle;\n",
       "    }\n",
       "\n",
       "    .dataframe tbody tr th {\n",
       "        vertical-align: top;\n",
       "    }\n",
       "\n",
       "    .dataframe thead th {\n",
       "        text-align: right;\n",
       "    }\n",
       "</style>\n",
       "<table border=\"1\" class=\"dataframe\">\n",
       "  <thead>\n",
       "    <tr style=\"text-align: right;\">\n",
       "      <th></th>\n",
       "      <th>Age</th>\n",
       "      <th>RoomService</th>\n",
       "      <th>FoodCourt</th>\n",
       "      <th>ShoppingMall</th>\n",
       "      <th>Spa</th>\n",
       "      <th>VRDeck</th>\n",
       "      <th>Transported</th>\n",
       "    </tr>\n",
       "  </thead>\n",
       "  <tbody>\n",
       "    <tr>\n",
       "      <th>Age</th>\n",
       "      <td>1.000000</td>\n",
       "      <td>0.068723</td>\n",
       "      <td>0.130421</td>\n",
       "      <td>0.033133</td>\n",
       "      <td>0.123970</td>\n",
       "      <td>0.101007</td>\n",
       "      <td>-0.075026</td>\n",
       "    </tr>\n",
       "    <tr>\n",
       "      <th>RoomService</th>\n",
       "      <td>0.068723</td>\n",
       "      <td>1.000000</td>\n",
       "      <td>-0.015889</td>\n",
       "      <td>0.054480</td>\n",
       "      <td>0.010080</td>\n",
       "      <td>-0.019581</td>\n",
       "      <td>-0.244611</td>\n",
       "    </tr>\n",
       "    <tr>\n",
       "      <th>FoodCourt</th>\n",
       "      <td>0.130421</td>\n",
       "      <td>-0.015889</td>\n",
       "      <td>1.000000</td>\n",
       "      <td>-0.014228</td>\n",
       "      <td>0.221891</td>\n",
       "      <td>0.227995</td>\n",
       "      <td>0.046566</td>\n",
       "    </tr>\n",
       "    <tr>\n",
       "      <th>ShoppingMall</th>\n",
       "      <td>0.033133</td>\n",
       "      <td>0.054480</td>\n",
       "      <td>-0.014228</td>\n",
       "      <td>1.000000</td>\n",
       "      <td>0.013879</td>\n",
       "      <td>-0.007322</td>\n",
       "      <td>0.010141</td>\n",
       "    </tr>\n",
       "    <tr>\n",
       "      <th>Spa</th>\n",
       "      <td>0.123970</td>\n",
       "      <td>0.010080</td>\n",
       "      <td>0.221891</td>\n",
       "      <td>0.013879</td>\n",
       "      <td>1.000000</td>\n",
       "      <td>0.153821</td>\n",
       "      <td>-0.221131</td>\n",
       "    </tr>\n",
       "    <tr>\n",
       "      <th>VRDeck</th>\n",
       "      <td>0.101007</td>\n",
       "      <td>-0.019581</td>\n",
       "      <td>0.227995</td>\n",
       "      <td>-0.007322</td>\n",
       "      <td>0.153821</td>\n",
       "      <td>1.000000</td>\n",
       "      <td>-0.207075</td>\n",
       "    </tr>\n",
       "    <tr>\n",
       "      <th>Transported</th>\n",
       "      <td>-0.075026</td>\n",
       "      <td>-0.244611</td>\n",
       "      <td>0.046566</td>\n",
       "      <td>0.010141</td>\n",
       "      <td>-0.221131</td>\n",
       "      <td>-0.207075</td>\n",
       "      <td>1.000000</td>\n",
       "    </tr>\n",
       "  </tbody>\n",
       "</table>\n",
       "</div>"
      ],
      "text/plain": [
       "                   Age  RoomService  FoodCourt  ShoppingMall       Spa  \\\n",
       "Age           1.000000     0.068723   0.130421      0.033133  0.123970   \n",
       "RoomService   0.068723     1.000000  -0.015889      0.054480  0.010080   \n",
       "FoodCourt     0.130421    -0.015889   1.000000     -0.014228  0.221891   \n",
       "ShoppingMall  0.033133     0.054480  -0.014228      1.000000  0.013879   \n",
       "Spa           0.123970     0.010080   0.221891      0.013879  1.000000   \n",
       "VRDeck        0.101007    -0.019581   0.227995     -0.007322  0.153821   \n",
       "Transported  -0.075026    -0.244611   0.046566      0.010141 -0.221131   \n",
       "\n",
       "                VRDeck  Transported  \n",
       "Age           0.101007    -0.075026  \n",
       "RoomService  -0.019581    -0.244611  \n",
       "FoodCourt     0.227995     0.046566  \n",
       "ShoppingMall -0.007322     0.010141  \n",
       "Spa           0.153821    -0.221131  \n",
       "VRDeck        1.000000    -0.207075  \n",
       "Transported  -0.207075     1.000000  "
      ]
     },
     "execution_count": 7,
     "metadata": {},
     "output_type": "execute_result"
    }
   ],
   "source": [
    "train_data.corr()"
   ]
  },
  {
   "cell_type": "markdown",
   "id": "5a9cea5c",
   "metadata": {
    "papermill": {
     "duration": 0.012072,
     "end_time": "2022-11-30T16:53:29.469136",
     "exception": false,
     "start_time": "2022-11-30T16:53:29.457064",
     "status": "completed"
    },
    "tags": []
   },
   "source": [
    "# Display Data corr"
   ]
  },
  {
   "cell_type": "code",
   "execution_count": 8,
   "id": "a6657385",
   "metadata": {
    "execution": {
     "iopub.execute_input": "2022-11-30T16:53:29.496732Z",
     "iopub.status.busy": "2022-11-30T16:53:29.495552Z",
     "iopub.status.idle": "2022-11-30T16:53:29.852945Z",
     "shell.execute_reply": "2022-11-30T16:53:29.851630Z"
    },
    "papermill": {
     "duration": 0.374111,
     "end_time": "2022-11-30T16:53:29.855680",
     "exception": false,
     "start_time": "2022-11-30T16:53:29.481569",
     "status": "completed"
    },
    "tags": []
   },
   "outputs": [
    {
     "data": {
      "text/plain": [
       "<AxesSubplot:>"
      ]
     },
     "execution_count": 8,
     "metadata": {},
     "output_type": "execute_result"
    },
    {
     "data": {
      "image/png": "[encoded data removed]",
      "text/plain": [
       "<Figure size 432x288 with 2 Axes>"
      ]
     },
     "metadata": {
      "needs_background": "light"
     },
     "output_type": "display_data"
    }
   ],
   "source": [
    "sns.heatmap(train_data.corr(),cmap='GnBu')  "
   ]
  },
  {
   "cell_type": "markdown",
   "id": "279104fe",
   "metadata": {
    "papermill": {
     "duration": 0.012493,
     "end_time": "2022-11-30T16:53:29.881245",
     "exception": false,
     "start_time": "2022-11-30T16:53:29.868752",
     "status": "completed"
    },
    "tags": []
   },
   "source": [
    "# Show data contain null data"
   ]
  },
  {
   "cell_type": "code",
   "execution_count": 9,
   "id": "f98bd8a5",
   "metadata": {
    "execution": {
     "iopub.execute_input": "2022-11-30T16:53:29.909394Z",
     "iopub.status.busy": "2022-11-30T16:53:29.908940Z",
     "iopub.status.idle": "2022-11-30T16:53:29.931581Z",
     "shell.execute_reply": "2022-11-30T16:53:29.930282Z"
    },
    "papermill": {
     "duration": 0.040021,
     "end_time": "2022-11-30T16:53:29.934348",
     "exception": false,
     "start_time": "2022-11-30T16:53:29.894327",
     "status": "completed"
    },
    "tags": []
   },
   "outputs": [
    {
     "data": {
      "text/html": [
       "<div>\n",
       "<style scoped>\n",
       "    .dataframe tbody tr th:only-of-type {\n",
       "        vertical-align: middle;\n",
       "    }\n",
       "\n",
       "    .dataframe tbody tr th {\n",
       "        vertical-align: top;\n",
       "    }\n",
       "\n",
       "    .dataframe thead th {\n",
       "        text-align: right;\n",
       "    }\n",
       "</style>\n",
       "<table border=\"1\" class=\"dataframe\">\n",
       "  <thead>\n",
       "    <tr style=\"text-align: right;\">\n",
       "      <th></th>\n",
       "      <th>Number of null</th>\n",
       "      <th>percentage</th>\n",
       "    </tr>\n",
       "  </thead>\n",
       "  <tbody>\n",
       "    <tr>\n",
       "      <th>PassengerId</th>\n",
       "      <td>0</td>\n",
       "      <td>0.000000</td>\n",
       "    </tr>\n",
       "    <tr>\n",
       "      <th>HomePlanet</th>\n",
       "      <td>201</td>\n",
       "      <td>2.312205</td>\n",
       "    </tr>\n",
       "    <tr>\n",
       "      <th>CryoSleep</th>\n",
       "      <td>217</td>\n",
       "      <td>2.496261</td>\n",
       "    </tr>\n",
       "    <tr>\n",
       "      <th>Cabin</th>\n",
       "      <td>199</td>\n",
       "      <td>2.289198</td>\n",
       "    </tr>\n",
       "    <tr>\n",
       "      <th>Destination</th>\n",
       "      <td>182</td>\n",
       "      <td>2.093639</td>\n",
       "    </tr>\n",
       "    <tr>\n",
       "      <th>Age</th>\n",
       "      <td>179</td>\n",
       "      <td>2.059128</td>\n",
       "    </tr>\n",
       "    <tr>\n",
       "      <th>VIP</th>\n",
       "      <td>203</td>\n",
       "      <td>2.335212</td>\n",
       "    </tr>\n",
       "    <tr>\n",
       "      <th>RoomService</th>\n",
       "      <td>181</td>\n",
       "      <td>2.082135</td>\n",
       "    </tr>\n",
       "    <tr>\n",
       "      <th>FoodCourt</th>\n",
       "      <td>183</td>\n",
       "      <td>2.105142</td>\n",
       "    </tr>\n",
       "    <tr>\n",
       "      <th>ShoppingMall</th>\n",
       "      <td>208</td>\n",
       "      <td>2.392730</td>\n",
       "    </tr>\n",
       "    <tr>\n",
       "      <th>Spa</th>\n",
       "      <td>183</td>\n",
       "      <td>2.105142</td>\n",
       "    </tr>\n",
       "    <tr>\n",
       "      <th>VRDeck</th>\n",
       "      <td>188</td>\n",
       "      <td>2.162660</td>\n",
       "    </tr>\n",
       "    <tr>\n",
       "      <th>Name</th>\n",
       "      <td>200</td>\n",
       "      <td>2.300702</td>\n",
       "    </tr>\n",
       "    <tr>\n",
       "      <th>Transported</th>\n",
       "      <td>0</td>\n",
       "      <td>0.000000</td>\n",
       "    </tr>\n",
       "  </tbody>\n",
       "</table>\n",
       "</div>"
      ],
      "text/plain": [
       "              Number of null  percentage\n",
       "PassengerId                0    0.000000\n",
       "HomePlanet               201    2.312205\n",
       "CryoSleep                217    2.496261\n",
       "Cabin                    199    2.289198\n",
       "Destination              182    2.093639\n",
       "Age                      179    2.059128\n",
       "VIP                      203    2.335212\n",
       "RoomService              181    2.082135\n",
       "FoodCourt                183    2.105142\n",
       "ShoppingMall             208    2.392730\n",
       "Spa                      183    2.105142\n",
       "VRDeck                   188    2.162660\n",
       "Name                     200    2.300702\n",
       "Transported                0    0.000000"
      ]
     },
     "execution_count": 9,
     "metadata": {},
     "output_type": "execute_result"
    }
   ],
   "source": [
    "data=pd.DataFrame(train_data.isnull().sum(),columns=['Number of null'])\n",
    "data['percentage']=(train_data.isnull().sum())/len(train_data)*100\n",
    "data"
   ]
  },
  {
   "cell_type": "code",
   "execution_count": 10,
   "id": "dcb2726a",
   "metadata": {
    "execution": {
     "iopub.execute_input": "2022-11-30T16:53:29.963153Z",
     "iopub.status.busy": "2022-11-30T16:53:29.962411Z",
     "iopub.status.idle": "2022-11-30T16:53:29.978440Z",
     "shell.execute_reply": "2022-11-30T16:53:29.976906Z"
    },
    "papermill": {
     "duration": 0.034078,
     "end_time": "2022-11-30T16:53:29.981434",
     "exception": false,
     "start_time": "2022-11-30T16:53:29.947356",
     "status": "completed"
    },
    "tags": []
   },
   "outputs": [],
   "source": [
    "train_data.drop('Name',axis=1,inplace=True)\n",
    "train_data.drop('PassengerId',axis=1,inplace=True)\n",
    "index=test_data['PassengerId']\n",
    "test_data.drop('Name',axis=1,inplace=True)\n",
    "test_data.drop('PassengerId',axis=1,inplace=True)\n",
    "train_data.drop('Destination',axis=1,inplace=True)\n",
    "test_data.drop('Destination',axis=1,inplace=True)"
   ]
  },
  {
   "cell_type": "markdown",
   "id": "c01554fc",
   "metadata": {
    "papermill": {
     "duration": 0.012418,
     "end_time": "2022-11-30T16:53:30.006718",
     "exception": false,
     "start_time": "2022-11-30T16:53:29.994300",
     "status": "completed"
    },
    "tags": []
   },
   "source": [
    "# Show data contain duplicate data"
   ]
  },
  {
   "cell_type": "code",
   "execution_count": 11,
   "id": "471a9832",
   "metadata": {
    "execution": {
     "iopub.execute_input": "2022-11-30T16:53:30.036125Z",
     "iopub.status.busy": "2022-11-30T16:53:30.034635Z",
     "iopub.status.idle": "2022-11-30T16:53:30.057485Z",
     "shell.execute_reply": "2022-11-30T16:53:30.056154Z"
    },
    "papermill": {
     "duration": 0.039893,
     "end_time": "2022-11-30T16:53:30.060066",
     "exception": false,
     "start_time": "2022-11-30T16:53:30.020173",
     "status": "completed"
    },
    "tags": []
   },
   "outputs": [
    {
     "data": {
      "text/plain": [
       "26"
      ]
     },
     "execution_count": 11,
     "metadata": {},
     "output_type": "execute_result"
    }
   ],
   "source": [
    "train_data.duplicated().sum()"
   ]
  },
  {
   "cell_type": "markdown",
   "id": "4199e3ba",
   "metadata": {
    "papermill": {
     "duration": 0.012636,
     "end_time": "2022-11-30T16:53:30.086757",
     "exception": false,
     "start_time": "2022-11-30T16:53:30.074121",
     "status": "completed"
    },
    "tags": []
   },
   "source": [
    "# Show Transported"
   ]
  },
  {
   "cell_type": "code",
   "execution_count": 12,
   "id": "b7b506d3",
   "metadata": {
    "execution": {
     "iopub.execute_input": "2022-11-30T16:53:30.114927Z",
     "iopub.status.busy": "2022-11-30T16:53:30.114019Z",
     "iopub.status.idle": "2022-11-30T16:53:30.302893Z",
     "shell.execute_reply": "2022-11-30T16:53:30.302025Z"
    },
    "papermill": {
     "duration": 0.205789,
     "end_time": "2022-11-30T16:53:30.305333",
     "exception": false,
     "start_time": "2022-11-30T16:53:30.099544",
     "status": "completed"
    },
    "tags": []
   },
   "outputs": [
    {
     "data": {
      "text/plain": [
       "<AxesSubplot:xlabel='Transported', ylabel='count'>"
      ]
     },
     "execution_count": 12,
     "metadata": {},
     "output_type": "execute_result"
    },
    {
     "data": {
      "image/png": "[encoded data removed]",
      "text/plain": [
       "<Figure size 432x288 with 1 Axes>"
      ]
     },
     "metadata": {
      "needs_background": "light"
     },
     "output_type": "display_data"
    }
   ],
   "source": [
    "sns.countplot(x='Transported',data=train_data)"
   ]
  },
  {
   "cell_type": "markdown",
   "id": "55485e45",
   "metadata": {
    "papermill": {
     "duration": 0.014085,
     "end_time": "2022-11-30T16:53:30.332858",
     "exception": false,
     "start_time": "2022-11-30T16:53:30.318773",
     "status": "completed"
    },
    "tags": []
   },
   "source": [
    "# Show input X and output y"
   ]
  },
  {
   "cell_type": "code",
   "execution_count": 13,
   "id": "9cbbbc3a",
   "metadata": {
    "execution": {
     "iopub.execute_input": "2022-11-30T16:53:30.363006Z",
     "iopub.status.busy": "2022-11-30T16:53:30.362128Z",
     "iopub.status.idle": "2022-11-30T16:53:30.369651Z",
     "shell.execute_reply": "2022-11-30T16:53:30.368452Z"
    },
    "papermill": {
     "duration": 0.025911,
     "end_time": "2022-11-30T16:53:30.372354",
     "exception": false,
     "start_time": "2022-11-30T16:53:30.346443",
     "status": "completed"
    },
    "tags": []
   },
   "outputs": [],
   "source": [
    "X=train_data.iloc[:,:-1]\n",
    "y=train_data.iloc[:,-1]\n",
    "X_key=X.keys()"
   ]
  },
  {
   "cell_type": "markdown",
   "id": "572e670d",
   "metadata": {
    "papermill": {
     "duration": 0.013083,
     "end_time": "2022-11-30T16:53:30.399133",
     "exception": false,
     "start_time": "2022-11-30T16:53:30.386050",
     "status": "completed"
    },
    "tags": []
   },
   "source": [
    "# Show input X"
   ]
  },
  {
   "cell_type": "code",
   "execution_count": 14,
   "id": "83f57769",
   "metadata": {
    "execution": {
     "iopub.execute_input": "2022-11-30T16:53:30.427786Z",
     "iopub.status.busy": "2022-11-30T16:53:30.427293Z",
     "iopub.status.idle": "2022-11-30T16:53:30.458005Z",
     "shell.execute_reply": "2022-11-30T16:53:30.456748Z"
    },
    "papermill": {
     "duration": 0.048015,
     "end_time": "2022-11-30T16:53:30.460478",
     "exception": false,
     "start_time": "2022-11-30T16:53:30.412463",
     "status": "completed"
    },
    "tags": []
   },
   "outputs": [
    {
     "data": {
      "text/html": [
       "<div>\n",
       "<style scoped>\n",
       "    .dataframe tbody tr th:only-of-type {\n",
       "        vertical-align: middle;\n",
       "    }\n",
       "\n",
       "    .dataframe tbody tr th {\n",
       "        vertical-align: top;\n",
       "    }\n",
       "\n",
       "    .dataframe thead th {\n",
       "        text-align: right;\n",
       "    }\n",
       "</style>\n",
       "<table border=\"1\" class=\"dataframe\">\n",
       "  <thead>\n",
       "    <tr style=\"text-align: right;\">\n",
       "      <th></th>\n",
       "      <th>HomePlanet</th>\n",
       "      <th>CryoSleep</th>\n",
       "      <th>Cabin</th>\n",
       "      <th>Age</th>\n",
       "      <th>VIP</th>\n",
       "      <th>RoomService</th>\n",
       "      <th>FoodCourt</th>\n",
       "      <th>ShoppingMall</th>\n",
       "      <th>Spa</th>\n",
       "      <th>VRDeck</th>\n",
       "    </tr>\n",
       "  </thead>\n",
       "  <tbody>\n",
       "    <tr>\n",
       "      <th>0</th>\n",
       "      <td>Europa</td>\n",
       "      <td>False</td>\n",
       "      <td>B/0/P</td>\n",
       "      <td>39.0</td>\n",
       "      <td>False</td>\n",
       "      <td>0.0</td>\n",
       "      <td>0.0</td>\n",
       "      <td>0.0</td>\n",
       "      <td>0.0</td>\n",
       "      <td>0.0</td>\n",
       "    </tr>\n",
       "    <tr>\n",
       "      <th>1</th>\n",
       "      <td>Earth</td>\n",
       "      <td>False</td>\n",
       "      <td>F/0/S</td>\n",
       "      <td>24.0</td>\n",
       "      <td>False</td>\n",
       "      <td>109.0</td>\n",
       "      <td>9.0</td>\n",
       "      <td>25.0</td>\n",
       "      <td>549.0</td>\n",
       "      <td>44.0</td>\n",
       "    </tr>\n",
       "    <tr>\n",
       "      <th>2</th>\n",
       "      <td>Europa</td>\n",
       "      <td>False</td>\n",
       "      <td>A/0/S</td>\n",
       "      <td>58.0</td>\n",
       "      <td>True</td>\n",
       "      <td>43.0</td>\n",
       "      <td>3576.0</td>\n",
       "      <td>0.0</td>\n",
       "      <td>6715.0</td>\n",
       "      <td>49.0</td>\n",
       "    </tr>\n",
       "    <tr>\n",
       "      <th>3</th>\n",
       "      <td>Europa</td>\n",
       "      <td>False</td>\n",
       "      <td>A/0/S</td>\n",
       "      <td>33.0</td>\n",
       "      <td>False</td>\n",
       "      <td>0.0</td>\n",
       "      <td>1283.0</td>\n",
       "      <td>371.0</td>\n",
       "      <td>3329.0</td>\n",
       "      <td>193.0</td>\n",
       "    </tr>\n",
       "    <tr>\n",
       "      <th>4</th>\n",
       "      <td>Earth</td>\n",
       "      <td>False</td>\n",
       "      <td>F/1/S</td>\n",
       "      <td>16.0</td>\n",
       "      <td>False</td>\n",
       "      <td>303.0</td>\n",
       "      <td>70.0</td>\n",
       "      <td>151.0</td>\n",
       "      <td>565.0</td>\n",
       "      <td>2.0</td>\n",
       "    </tr>\n",
       "    <tr>\n",
       "      <th>...</th>\n",
       "      <td>...</td>\n",
       "      <td>...</td>\n",
       "      <td>...</td>\n",
       "      <td>...</td>\n",
       "      <td>...</td>\n",
       "      <td>...</td>\n",
       "      <td>...</td>\n",
       "      <td>...</td>\n",
       "      <td>...</td>\n",
       "      <td>...</td>\n",
       "    </tr>\n",
       "    <tr>\n",
       "      <th>8688</th>\n",
       "      <td>Europa</td>\n",
       "      <td>False</td>\n",
       "      <td>A/98/P</td>\n",
       "      <td>41.0</td>\n",
       "      <td>True</td>\n",
       "      <td>0.0</td>\n",
       "      <td>6819.0</td>\n",
       "      <td>0.0</td>\n",
       "      <td>1643.0</td>\n",
       "      <td>74.0</td>\n",
       "    </tr>\n",
       "    <tr>\n",
       "      <th>8689</th>\n",
       "      <td>Earth</td>\n",
       "      <td>True</td>\n",
       "      <td>G/1499/S</td>\n",
       "      <td>18.0</td>\n",
       "      <td>False</td>\n",
       "      <td>0.0</td>\n",
       "      <td>0.0</td>\n",
       "      <td>0.0</td>\n",
       "      <td>0.0</td>\n",
       "      <td>0.0</td>\n",
       "    </tr>\n",
       "    <tr>\n",
       "      <th>8690</th>\n",
       "      <td>Earth</td>\n",
       "      <td>False</td>\n",
       "      <td>G/1500/S</td>\n",
       "      <td>26.0</td>\n",
       "      <td>False</td>\n",
       "      <td>0.0</td>\n",
       "      <td>0.0</td>\n",
       "      <td>1872.0</td>\n",
       "      <td>1.0</td>\n",
       "      <td>0.0</td>\n",
       "    </tr>\n",
       "    <tr>\n",
       "      <th>8691</th>\n",
       "      <td>Europa</td>\n",
       "      <td>False</td>\n",
       "      <td>E/608/S</td>\n",
       "      <td>32.0</td>\n",
       "      <td>False</td>\n",
       "      <td>0.0</td>\n",
       "      <td>1049.0</td>\n",
       "      <td>0.0</td>\n",
       "      <td>353.0</td>\n",
       "      <td>3235.0</td>\n",
       "    </tr>\n",
       "    <tr>\n",
       "      <th>8692</th>\n",
       "      <td>Europa</td>\n",
       "      <td>False</td>\n",
       "      <td>E/608/S</td>\n",
       "      <td>44.0</td>\n",
       "      <td>False</td>\n",
       "      <td>126.0</td>\n",
       "      <td>4688.0</td>\n",
       "      <td>0.0</td>\n",
       "      <td>0.0</td>\n",
       "      <td>12.0</td>\n",
       "    </tr>\n",
       "  </tbody>\n",
       "</table>\n",
       "<p>8693 rows × 10 columns</p>\n",
       "</div>"
      ],
      "text/plain": [
       "     HomePlanet CryoSleep     Cabin   Age    VIP  RoomService  FoodCourt  \\\n",
       "0        Europa     False     B/0/P  39.0  False          0.0        0.0   \n",
       "1         Earth     False     F/0/S  24.0  False        109.0        9.0   \n",
       "2        Europa     False     A/0/S  58.0   True         43.0     3576.0   \n",
       "3        Europa     False     A/0/S  33.0  False          0.0     1283.0   \n",
       "4         Earth     False     F/1/S  16.0  False        303.0       70.0   \n",
       "...         ...       ...       ...   ...    ...          ...        ...   \n",
       "8688     Europa     False    A/98/P  41.0   True          0.0     6819.0   \n",
       "8689      Earth      True  G/1499/S  18.0  False          0.0        0.0   \n",
       "8690      Earth     False  G/1500/S  26.0  False          0.0        0.0   \n",
       "8691     Europa     False   E/608/S  32.0  False          0.0     1049.0   \n",
       "8692     Europa     False   E/608/S  44.0  False        126.0     4688.0   \n",
       "\n",
       "      ShoppingMall     Spa  VRDeck  \n",
       "0              0.0     0.0     0.0  \n",
       "1             25.0   549.0    44.0  \n",
       "2              0.0  6715.0    49.0  \n",
       "3            371.0  3329.0   193.0  \n",
       "4            151.0   565.0     2.0  \n",
       "...            ...     ...     ...  \n",
       "8688           0.0  1643.0    74.0  \n",
       "8689           0.0     0.0     0.0  \n",
       "8690        1872.0     1.0     0.0  \n",
       "8691           0.0   353.0  3235.0  \n",
       "8692           0.0     0.0    12.0  \n",
       "\n",
       "[8693 rows x 10 columns]"
      ]
     },
     "execution_count": 14,
     "metadata": {},
     "output_type": "execute_result"
    }
   ],
   "source": [
    "X"
   ]
  },
  {
   "cell_type": "markdown",
   "id": "eb8f6828",
   "metadata": {
    "papermill": {
     "duration": 0.014061,
     "end_time": "2022-11-30T16:53:30.489013",
     "exception": false,
     "start_time": "2022-11-30T16:53:30.474952",
     "status": "completed"
    },
    "tags": []
   },
   "source": [
    "# Show output y"
   ]
  },
  {
   "cell_type": "code",
   "execution_count": 15,
   "id": "fe275cd5",
   "metadata": {
    "execution": {
     "iopub.execute_input": "2022-11-30T16:53:30.525135Z",
     "iopub.status.busy": "2022-11-30T16:53:30.524043Z",
     "iopub.status.idle": "2022-11-30T16:53:30.533918Z",
     "shell.execute_reply": "2022-11-30T16:53:30.532707Z"
    },
    "papermill": {
     "duration": 0.03381,
     "end_time": "2022-11-30T16:53:30.536908",
     "exception": false,
     "start_time": "2022-11-30T16:53:30.503098",
     "status": "completed"
    },
    "tags": []
   },
   "outputs": [
    {
     "data": {
      "text/plain": [
       "0       False\n",
       "1        True\n",
       "2       False\n",
       "3       False\n",
       "4        True\n",
       "        ...  \n",
       "8688    False\n",
       "8689    False\n",
       "8690     True\n",
       "8691    False\n",
       "8692     True\n",
       "Name: Transported, Length: 8693, dtype: bool"
      ]
     },
     "execution_count": 15,
     "metadata": {},
     "output_type": "execute_result"
    }
   ],
   "source": [
    "y"
   ]
  },
  {
   "cell_type": "markdown",
   "id": "cabc89b1",
   "metadata": {
    "papermill": {
     "duration": 0.019482,
     "end_time": "2022-11-30T16:53:30.576005",
     "exception": false,
     "start_time": "2022-11-30T16:53:30.556523",
     "status": "completed"
    },
    "tags": []
   },
   "source": [
    "# Transform y"
   ]
  },
  {
   "cell_type": "code",
   "execution_count": 16,
   "id": "013f4a1a",
   "metadata": {
    "execution": {
     "iopub.execute_input": "2022-11-30T16:53:30.617060Z",
     "iopub.status.busy": "2022-11-30T16:53:30.616301Z",
     "iopub.status.idle": "2022-11-30T16:53:30.629630Z",
     "shell.execute_reply": "2022-11-30T16:53:30.628350Z"
    },
    "papermill": {
     "duration": 0.037374,
     "end_time": "2022-11-30T16:53:30.632366",
     "exception": false,
     "start_time": "2022-11-30T16:53:30.594992",
     "status": "completed"
    },
    "tags": []
   },
   "outputs": [
    {
     "data": {
      "text/html": [
       "<div>\n",
       "<style scoped>\n",
       "    .dataframe tbody tr th:only-of-type {\n",
       "        vertical-align: middle;\n",
       "    }\n",
       "\n",
       "    .dataframe tbody tr th {\n",
       "        vertical-align: top;\n",
       "    }\n",
       "\n",
       "    .dataframe thead th {\n",
       "        text-align: right;\n",
       "    }\n",
       "</style>\n",
       "<table border=\"1\" class=\"dataframe\">\n",
       "  <thead>\n",
       "    <tr style=\"text-align: right;\">\n",
       "      <th></th>\n",
       "      <th>0</th>\n",
       "    </tr>\n",
       "  </thead>\n",
       "  <tbody>\n",
       "    <tr>\n",
       "      <th>0</th>\n",
       "      <td>0</td>\n",
       "    </tr>\n",
       "    <tr>\n",
       "      <th>1</th>\n",
       "      <td>1</td>\n",
       "    </tr>\n",
       "    <tr>\n",
       "      <th>2</th>\n",
       "      <td>0</td>\n",
       "    </tr>\n",
       "    <tr>\n",
       "      <th>3</th>\n",
       "      <td>0</td>\n",
       "    </tr>\n",
       "    <tr>\n",
       "      <th>4</th>\n",
       "      <td>1</td>\n",
       "    </tr>\n",
       "    <tr>\n",
       "      <th>...</th>\n",
       "      <td>...</td>\n",
       "    </tr>\n",
       "    <tr>\n",
       "      <th>8688</th>\n",
       "      <td>0</td>\n",
       "    </tr>\n",
       "    <tr>\n",
       "      <th>8689</th>\n",
       "      <td>0</td>\n",
       "    </tr>\n",
       "    <tr>\n",
       "      <th>8690</th>\n",
       "      <td>1</td>\n",
       "    </tr>\n",
       "    <tr>\n",
       "      <th>8691</th>\n",
       "      <td>0</td>\n",
       "    </tr>\n",
       "    <tr>\n",
       "      <th>8692</th>\n",
       "      <td>1</td>\n",
       "    </tr>\n",
       "  </tbody>\n",
       "</table>\n",
       "<p>8693 rows × 1 columns</p>\n",
       "</div>"
      ],
      "text/plain": [
       "      0\n",
       "0     0\n",
       "1     1\n",
       "2     0\n",
       "3     0\n",
       "4     1\n",
       "...  ..\n",
       "8688  0\n",
       "8689  0\n",
       "8690  1\n",
       "8691  0\n",
       "8692  1\n",
       "\n",
       "[8693 rows x 1 columns]"
      ]
     },
     "execution_count": 16,
     "metadata": {},
     "output_type": "execute_result"
    }
   ],
   "source": [
    "label=LabelEncoder()\n",
    "y=label.fit_transform(y)\n",
    "pd.DataFrame(y)"
   ]
  },
  {
   "cell_type": "markdown",
   "id": "4836cd5c",
   "metadata": {
    "papermill": {
     "duration": 0.013861,
     "end_time": "2022-11-30T16:53:30.660800",
     "exception": false,
     "start_time": "2022-11-30T16:53:30.646939",
     "status": "completed"
    },
    "tags": []
   },
   "source": [
    "# Transform X"
   ]
  },
  {
   "cell_type": "code",
   "execution_count": 17,
   "id": "ea661c5c",
   "metadata": {
    "execution": {
     "iopub.execute_input": "2022-11-30T16:53:30.691764Z",
     "iopub.status.busy": "2022-11-30T16:53:30.691285Z",
     "iopub.status.idle": "2022-11-30T16:53:30.755733Z",
     "shell.execute_reply": "2022-11-30T16:53:30.754389Z"
    },
    "papermill": {
     "duration": 0.083538,
     "end_time": "2022-11-30T16:53:30.758562",
     "exception": false,
     "start_time": "2022-11-30T16:53:30.675024",
     "status": "completed"
    },
    "tags": []
   },
   "outputs": [
    {
     "data": {
      "text/html": [
       "<div>\n",
       "<style scoped>\n",
       "    .dataframe tbody tr th:only-of-type {\n",
       "        vertical-align: middle;\n",
       "    }\n",
       "\n",
       "    .dataframe tbody tr th {\n",
       "        vertical-align: top;\n",
       "    }\n",
       "\n",
       "    .dataframe thead th {\n",
       "        text-align: right;\n",
       "    }\n",
       "</style>\n",
       "<table border=\"1\" class=\"dataframe\">\n",
       "  <thead>\n",
       "    <tr style=\"text-align: right;\">\n",
       "      <th></th>\n",
       "      <th>HomePlanet</th>\n",
       "      <th>CryoSleep</th>\n",
       "      <th>Cabin</th>\n",
       "      <th>Age</th>\n",
       "      <th>VIP</th>\n",
       "      <th>RoomService</th>\n",
       "      <th>FoodCourt</th>\n",
       "      <th>ShoppingMall</th>\n",
       "      <th>Spa</th>\n",
       "      <th>VRDeck</th>\n",
       "    </tr>\n",
       "  </thead>\n",
       "  <tbody>\n",
       "    <tr>\n",
       "      <th>0</th>\n",
       "      <td>1</td>\n",
       "      <td>0</td>\n",
       "      <td>149</td>\n",
       "      <td>39.0</td>\n",
       "      <td>0</td>\n",
       "      <td>0.0</td>\n",
       "      <td>0.0</td>\n",
       "      <td>0.0</td>\n",
       "      <td>0.0</td>\n",
       "      <td>0.0</td>\n",
       "    </tr>\n",
       "    <tr>\n",
       "      <th>1</th>\n",
       "      <td>0</td>\n",
       "      <td>0</td>\n",
       "      <td>2184</td>\n",
       "      <td>24.0</td>\n",
       "      <td>0</td>\n",
       "      <td>109.0</td>\n",
       "      <td>9.0</td>\n",
       "      <td>25.0</td>\n",
       "      <td>549.0</td>\n",
       "      <td>44.0</td>\n",
       "    </tr>\n",
       "    <tr>\n",
       "      <th>2</th>\n",
       "      <td>1</td>\n",
       "      <td>0</td>\n",
       "      <td>1</td>\n",
       "      <td>58.0</td>\n",
       "      <td>1</td>\n",
       "      <td>43.0</td>\n",
       "      <td>3576.0</td>\n",
       "      <td>0.0</td>\n",
       "      <td>6715.0</td>\n",
       "      <td>49.0</td>\n",
       "    </tr>\n",
       "    <tr>\n",
       "      <th>3</th>\n",
       "      <td>1</td>\n",
       "      <td>0</td>\n",
       "      <td>1</td>\n",
       "      <td>33.0</td>\n",
       "      <td>0</td>\n",
       "      <td>0.0</td>\n",
       "      <td>1283.0</td>\n",
       "      <td>371.0</td>\n",
       "      <td>3329.0</td>\n",
       "      <td>193.0</td>\n",
       "    </tr>\n",
       "    <tr>\n",
       "      <th>4</th>\n",
       "      <td>0</td>\n",
       "      <td>0</td>\n",
       "      <td>2186</td>\n",
       "      <td>16.0</td>\n",
       "      <td>0</td>\n",
       "      <td>303.0</td>\n",
       "      <td>70.0</td>\n",
       "      <td>151.0</td>\n",
       "      <td>565.0</td>\n",
       "      <td>2.0</td>\n",
       "    </tr>\n",
       "    <tr>\n",
       "      <th>...</th>\n",
       "      <td>...</td>\n",
       "      <td>...</td>\n",
       "      <td>...</td>\n",
       "      <td>...</td>\n",
       "      <td>...</td>\n",
       "      <td>...</td>\n",
       "      <td>...</td>\n",
       "      <td>...</td>\n",
       "      <td>...</td>\n",
       "      <td>...</td>\n",
       "    </tr>\n",
       "    <tr>\n",
       "      <th>8688</th>\n",
       "      <td>1</td>\n",
       "      <td>0</td>\n",
       "      <td>146</td>\n",
       "      <td>41.0</td>\n",
       "      <td>1</td>\n",
       "      <td>0.0</td>\n",
       "      <td>6819.0</td>\n",
       "      <td>0.0</td>\n",
       "      <td>1643.0</td>\n",
       "      <td>74.0</td>\n",
       "    </tr>\n",
       "    <tr>\n",
       "      <th>8689</th>\n",
       "      <td>0</td>\n",
       "      <td>1</td>\n",
       "      <td>5280</td>\n",
       "      <td>18.0</td>\n",
       "      <td>0</td>\n",
       "      <td>0.0</td>\n",
       "      <td>0.0</td>\n",
       "      <td>0.0</td>\n",
       "      <td>0.0</td>\n",
       "      <td>0.0</td>\n",
       "    </tr>\n",
       "    <tr>\n",
       "      <th>8690</th>\n",
       "      <td>0</td>\n",
       "      <td>0</td>\n",
       "      <td>5285</td>\n",
       "      <td>26.0</td>\n",
       "      <td>0</td>\n",
       "      <td>0.0</td>\n",
       "      <td>0.0</td>\n",
       "      <td>1872.0</td>\n",
       "      <td>1.0</td>\n",
       "      <td>0.0</td>\n",
       "    </tr>\n",
       "    <tr>\n",
       "      <th>8691</th>\n",
       "      <td>1</td>\n",
       "      <td>0</td>\n",
       "      <td>2131</td>\n",
       "      <td>32.0</td>\n",
       "      <td>0</td>\n",
       "      <td>0.0</td>\n",
       "      <td>1049.0</td>\n",
       "      <td>0.0</td>\n",
       "      <td>353.0</td>\n",
       "      <td>3235.0</td>\n",
       "    </tr>\n",
       "    <tr>\n",
       "      <th>8692</th>\n",
       "      <td>1</td>\n",
       "      <td>0</td>\n",
       "      <td>2131</td>\n",
       "      <td>44.0</td>\n",
       "      <td>0</td>\n",
       "      <td>126.0</td>\n",
       "      <td>4688.0</td>\n",
       "      <td>0.0</td>\n",
       "      <td>0.0</td>\n",
       "      <td>12.0</td>\n",
       "    </tr>\n",
       "  </tbody>\n",
       "</table>\n",
       "<p>8693 rows × 10 columns</p>\n",
       "</div>"
      ],
      "text/plain": [
       "      HomePlanet  CryoSleep  Cabin   Age  VIP  RoomService  FoodCourt  \\\n",
       "0              1          0    149  39.0    0          0.0        0.0   \n",
       "1              0          0   2184  24.0    0        109.0        9.0   \n",
       "2              1          0      1  58.0    1         43.0     3576.0   \n",
       "3              1          0      1  33.0    0          0.0     1283.0   \n",
       "4              0          0   2186  16.0    0        303.0       70.0   \n",
       "...          ...        ...    ...   ...  ...          ...        ...   \n",
       "8688           1          0    146  41.0    1          0.0     6819.0   \n",
       "8689           0          1   5280  18.0    0          0.0        0.0   \n",
       "8690           0          0   5285  26.0    0          0.0        0.0   \n",
       "8691           1          0   2131  32.0    0          0.0     1049.0   \n",
       "8692           1          0   2131  44.0    0        126.0     4688.0   \n",
       "\n",
       "      ShoppingMall     Spa  VRDeck  \n",
       "0              0.0     0.0     0.0  \n",
       "1             25.0   549.0    44.0  \n",
       "2              0.0  6715.0    49.0  \n",
       "3            371.0  3329.0   193.0  \n",
       "4            151.0   565.0     2.0  \n",
       "...            ...     ...     ...  \n",
       "8688           0.0  1643.0    74.0  \n",
       "8689           0.0     0.0     0.0  \n",
       "8690        1872.0     1.0     0.0  \n",
       "8691           0.0   353.0  3235.0  \n",
       "8692           0.0     0.0    12.0  \n",
       "\n",
       "[8693 rows x 10 columns]"
      ]
     },
     "execution_count": 17,
     "metadata": {},
     "output_type": "execute_result"
    }
   ],
   "source": [
    "list=['HomePlanet','CryoSleep','Cabin','VIP']\n",
    "for col in list:\n",
    "    X[col]=label.fit_transform(X[col])\n",
    "    test_data[col]=label.fit_transform(test_data[col])\n",
    "X"
   ]
  },
  {
   "cell_type": "markdown",
   "id": "2696cd61",
   "metadata": {
    "papermill": {
     "duration": 0.0148,
     "end_time": "2022-11-30T16:53:30.788126",
     "exception": false,
     "start_time": "2022-11-30T16:53:30.773326",
     "status": "completed"
    },
    "tags": []
   },
   "source": [
    "# Transform X"
   ]
  },
  {
   "cell_type": "code",
   "execution_count": 18,
   "id": "57077d80",
   "metadata": {
    "execution": {
     "iopub.execute_input": "2022-11-30T16:53:30.819933Z",
     "iopub.status.busy": "2022-11-30T16:53:30.819438Z",
     "iopub.status.idle": "2022-11-30T16:53:30.861615Z",
     "shell.execute_reply": "2022-11-30T16:53:30.860432Z"
    },
    "papermill": {
     "duration": 0.06119,
     "end_time": "2022-11-30T16:53:30.864505",
     "exception": false,
     "start_time": "2022-11-30T16:53:30.803315",
     "status": "completed"
    },
    "tags": []
   },
   "outputs": [
    {
     "data": {
      "text/html": [
       "<div>\n",
       "<style scoped>\n",
       "    .dataframe tbody tr th:only-of-type {\n",
       "        vertical-align: middle;\n",
       "    }\n",
       "\n",
       "    .dataframe tbody tr th {\n",
       "        vertical-align: top;\n",
       "    }\n",
       "\n",
       "    .dataframe thead th {\n",
       "        text-align: right;\n",
       "    }\n",
       "</style>\n",
       "<table border=\"1\" class=\"dataframe\">\n",
       "  <thead>\n",
       "    <tr style=\"text-align: right;\">\n",
       "      <th></th>\n",
       "      <th>HomePlanet</th>\n",
       "      <th>CryoSleep</th>\n",
       "      <th>Cabin</th>\n",
       "      <th>Age</th>\n",
       "      <th>VIP</th>\n",
       "      <th>RoomService</th>\n",
       "      <th>FoodCourt</th>\n",
       "      <th>ShoppingMall</th>\n",
       "      <th>Spa</th>\n",
       "      <th>VRDeck</th>\n",
       "    </tr>\n",
       "  </thead>\n",
       "  <tbody>\n",
       "    <tr>\n",
       "      <th>0</th>\n",
       "      <td>1.0</td>\n",
       "      <td>0.0</td>\n",
       "      <td>149.0</td>\n",
       "      <td>39.0</td>\n",
       "      <td>0.0</td>\n",
       "      <td>0.0</td>\n",
       "      <td>0.0</td>\n",
       "      <td>0.0</td>\n",
       "      <td>0.0</td>\n",
       "      <td>0.0</td>\n",
       "    </tr>\n",
       "    <tr>\n",
       "      <th>1</th>\n",
       "      <td>0.0</td>\n",
       "      <td>0.0</td>\n",
       "      <td>2184.0</td>\n",
       "      <td>24.0</td>\n",
       "      <td>0.0</td>\n",
       "      <td>109.0</td>\n",
       "      <td>9.0</td>\n",
       "      <td>25.0</td>\n",
       "      <td>549.0</td>\n",
       "      <td>44.0</td>\n",
       "    </tr>\n",
       "    <tr>\n",
       "      <th>2</th>\n",
       "      <td>1.0</td>\n",
       "      <td>0.0</td>\n",
       "      <td>1.0</td>\n",
       "      <td>58.0</td>\n",
       "      <td>1.0</td>\n",
       "      <td>43.0</td>\n",
       "      <td>3576.0</td>\n",
       "      <td>0.0</td>\n",
       "      <td>6715.0</td>\n",
       "      <td>49.0</td>\n",
       "    </tr>\n",
       "    <tr>\n",
       "      <th>3</th>\n",
       "      <td>1.0</td>\n",
       "      <td>0.0</td>\n",
       "      <td>1.0</td>\n",
       "      <td>33.0</td>\n",
       "      <td>0.0</td>\n",
       "      <td>0.0</td>\n",
       "      <td>1283.0</td>\n",
       "      <td>371.0</td>\n",
       "      <td>3329.0</td>\n",
       "      <td>193.0</td>\n",
       "    </tr>\n",
       "    <tr>\n",
       "      <th>4</th>\n",
       "      <td>0.0</td>\n",
       "      <td>0.0</td>\n",
       "      <td>2186.0</td>\n",
       "      <td>16.0</td>\n",
       "      <td>0.0</td>\n",
       "      <td>303.0</td>\n",
       "      <td>70.0</td>\n",
       "      <td>151.0</td>\n",
       "      <td>565.0</td>\n",
       "      <td>2.0</td>\n",
       "    </tr>\n",
       "    <tr>\n",
       "      <th>...</th>\n",
       "      <td>...</td>\n",
       "      <td>...</td>\n",
       "      <td>...</td>\n",
       "      <td>...</td>\n",
       "      <td>...</td>\n",
       "      <td>...</td>\n",
       "      <td>...</td>\n",
       "      <td>...</td>\n",
       "      <td>...</td>\n",
       "      <td>...</td>\n",
       "    </tr>\n",
       "    <tr>\n",
       "      <th>8688</th>\n",
       "      <td>1.0</td>\n",
       "      <td>0.0</td>\n",
       "      <td>146.0</td>\n",
       "      <td>41.0</td>\n",
       "      <td>1.0</td>\n",
       "      <td>0.0</td>\n",
       "      <td>6819.0</td>\n",
       "      <td>0.0</td>\n",
       "      <td>1643.0</td>\n",
       "      <td>74.0</td>\n",
       "    </tr>\n",
       "    <tr>\n",
       "      <th>8689</th>\n",
       "      <td>0.0</td>\n",
       "      <td>1.0</td>\n",
       "      <td>5280.0</td>\n",
       "      <td>18.0</td>\n",
       "      <td>0.0</td>\n",
       "      <td>0.0</td>\n",
       "      <td>0.0</td>\n",
       "      <td>0.0</td>\n",
       "      <td>0.0</td>\n",
       "      <td>0.0</td>\n",
       "    </tr>\n",
       "    <tr>\n",
       "      <th>8690</th>\n",
       "      <td>0.0</td>\n",
       "      <td>0.0</td>\n",
       "      <td>5285.0</td>\n",
       "      <td>26.0</td>\n",
       "      <td>0.0</td>\n",
       "      <td>0.0</td>\n",
       "      <td>0.0</td>\n",
       "      <td>1872.0</td>\n",
       "      <td>1.0</td>\n",
       "      <td>0.0</td>\n",
       "    </tr>\n",
       "    <tr>\n",
       "      <th>8691</th>\n",
       "      <td>1.0</td>\n",
       "      <td>0.0</td>\n",
       "      <td>2131.0</td>\n",
       "      <td>32.0</td>\n",
       "      <td>0.0</td>\n",
       "      <td>0.0</td>\n",
       "      <td>1049.0</td>\n",
       "      <td>0.0</td>\n",
       "      <td>353.0</td>\n",
       "      <td>3235.0</td>\n",
       "    </tr>\n",
       "    <tr>\n",
       "      <th>8692</th>\n",
       "      <td>1.0</td>\n",
       "      <td>0.0</td>\n",
       "      <td>2131.0</td>\n",
       "      <td>44.0</td>\n",
       "      <td>0.0</td>\n",
       "      <td>126.0</td>\n",
       "      <td>4688.0</td>\n",
       "      <td>0.0</td>\n",
       "      <td>0.0</td>\n",
       "      <td>12.0</td>\n",
       "    </tr>\n",
       "  </tbody>\n",
       "</table>\n",
       "<p>8693 rows × 10 columns</p>\n",
       "</div>"
      ],
      "text/plain": [
       "      HomePlanet  CryoSleep   Cabin   Age  VIP  RoomService  FoodCourt  \\\n",
       "0            1.0        0.0   149.0  39.0  0.0          0.0        0.0   \n",
       "1            0.0        0.0  2184.0  24.0  0.0        109.0        9.0   \n",
       "2            1.0        0.0     1.0  58.0  1.0         43.0     3576.0   \n",
       "3            1.0        0.0     1.0  33.0  0.0          0.0     1283.0   \n",
       "4            0.0        0.0  2186.0  16.0  0.0        303.0       70.0   \n",
       "...          ...        ...     ...   ...  ...          ...        ...   \n",
       "8688         1.0        0.0   146.0  41.0  1.0          0.0     6819.0   \n",
       "8689         0.0        1.0  5280.0  18.0  0.0          0.0        0.0   \n",
       "8690         0.0        0.0  5285.0  26.0  0.0          0.0        0.0   \n",
       "8691         1.0        0.0  2131.0  32.0  0.0          0.0     1049.0   \n",
       "8692         1.0        0.0  2131.0  44.0  0.0        126.0     4688.0   \n",
       "\n",
       "      ShoppingMall     Spa  VRDeck  \n",
       "0              0.0     0.0     0.0  \n",
       "1             25.0   549.0    44.0  \n",
       "2              0.0  6715.0    49.0  \n",
       "3            371.0  3329.0   193.0  \n",
       "4            151.0   565.0     2.0  \n",
       "...            ...     ...     ...  \n",
       "8688           0.0  1643.0    74.0  \n",
       "8689           0.0     0.0     0.0  \n",
       "8690        1872.0     1.0     0.0  \n",
       "8691           0.0   353.0  3235.0  \n",
       "8692           0.0     0.0    12.0  \n",
       "\n",
       "[8693 rows x 10 columns]"
      ]
     },
     "execution_count": 18,
     "metadata": {},
     "output_type": "execute_result"
    }
   ],
   "source": [
    "impute=SimpleImputer(missing_values=np.nan, strategy='mean')\n",
    "X=impute.fit_transform(X)\n",
    "test_data=impute.fit_transform(test_data)\n",
    "X=pd.DataFrame(X,columns=X_key)\n",
    "X"
   ]
  },
  {
   "cell_type": "markdown",
   "id": "b507c643",
   "metadata": {
    "papermill": {
     "duration": 0.014851,
     "end_time": "2022-11-30T16:53:30.894983",
     "exception": false,
     "start_time": "2022-11-30T16:53:30.880132",
     "status": "completed"
    },
    "tags": []
   },
   "source": [
    "# MinMaxScaler for Data\n"
   ]
  },
  {
   "cell_type": "code",
   "execution_count": 19,
   "id": "7cc31263",
   "metadata": {
    "execution": {
     "iopub.execute_input": "2022-11-30T16:53:30.926712Z",
     "iopub.status.busy": "2022-11-30T16:53:30.926219Z",
     "iopub.status.idle": "2022-11-30T16:53:30.940587Z",
     "shell.execute_reply": "2022-11-30T16:53:30.938544Z"
    },
    "papermill": {
     "duration": 0.03376,
     "end_time": "2022-11-30T16:53:30.943680",
     "exception": false,
     "start_time": "2022-11-30T16:53:30.909920",
     "status": "completed"
    },
    "tags": []
   },
   "outputs": [
    {
     "name": "stdout",
     "output_type": "stream",
     "text": [
      "X \n",
      " [[3.33333333e-01 0.00000000e+00 2.27134146e-02 4.93670886e-01\n",
      "  0.00000000e+00 0.00000000e+00 0.00000000e+00 0.00000000e+00\n",
      "  0.00000000e+00 0.00000000e+00]\n",
      " [0.00000000e+00 0.00000000e+00 3.32926829e-01 3.03797468e-01\n",
      "  0.00000000e+00 7.60801284e-03 3.01881729e-04 1.06419207e-03\n",
      "  2.45001785e-02 1.82322960e-03]\n",
      " [3.33333333e-01 0.00000000e+00 1.52439024e-04 7.34177215e-01\n",
      "  5.00000000e-01 3.00132617e-03 1.19947674e-01 0.00000000e+00\n",
      "  2.99669761e-01 2.03041478e-03]\n",
      " [3.33333333e-01 0.00000000e+00 1.52439024e-04 4.17721519e-01\n",
      "  0.00000000e+00 0.00000000e+00 4.30349177e-02 1.57926103e-02\n",
      "  1.48563013e-01 7.99734803e-03]\n",
      " [0.00000000e+00 0.00000000e+00 3.33231707e-01 2.02531646e-01\n",
      "  0.00000000e+00 2.11488797e-02 2.34796901e-03 6.42772007e-03\n",
      "  2.52142092e-02 8.28740728e-05]\n",
      " [0.00000000e+00 0.00000000e+00 3.32774390e-01 5.56962025e-01\n",
      "  0.00000000e+00 0.00000000e+00 1.62009861e-02 0.00000000e+00\n",
      "  1.29864334e-02 0.00000000e+00]\n",
      " [0.00000000e+00 0.00000000e+00 5.22103659e-01 3.29113924e-01\n",
      "  0.00000000e+00 2.93152788e-03 5.16217757e-02 1.27703048e-04\n",
      "  0.00000000e+00 0.00000000e+00]\n",
      " [0.00000000e+00 5.00000000e-01 6.94969512e-01 3.54430380e-01\n",
      "  0.00000000e+00 0.00000000e+00 0.00000000e+00 0.00000000e+00\n",
      "  0.00000000e+00 1.26322791e-02]\n",
      " [0.00000000e+00 0.00000000e+00 5.43445122e-01 4.43037975e-01\n",
      "  0.00000000e+00 0.00000000e+00 2.63307953e-02 7.23650604e-04\n",
      "  9.63941449e-03 0.00000000e+00]\n",
      " [3.33333333e-01 5.00000000e-01 2.28658537e-02 1.77215190e-01\n",
      "  0.00000000e+00 0.00000000e+00 0.00000000e+00 0.00000000e+00\n",
      "  0.00000000e+00 0.00000000e+00]]\n",
      "y \n",
      " [0 1 0 0 1 1 1 1 1 1]\n"
     ]
    }
   ],
   "source": [
    "scaler = MinMaxScaler(copy=True, feature_range=(0, 1))\n",
    "X = scaler.fit_transform(X)\n",
    "print('X \\n' , X[:10])\n",
    "print('y \\n' , y[:10])"
   ]
  },
  {
   "cell_type": "markdown",
   "id": "bf8561c8",
   "metadata": {
    "papermill": {
     "duration": 0.015614,
     "end_time": "2022-11-30T16:53:30.974521",
     "exception": false,
     "start_time": "2022-11-30T16:53:30.958907",
     "status": "completed"
    },
    "tags": []
   },
   "source": [
    "# Split Data"
   ]
  },
  {
   "cell_type": "code",
   "execution_count": 20,
   "id": "e1c5ab32",
   "metadata": {
    "execution": {
     "iopub.execute_input": "2022-11-30T16:53:31.007523Z",
     "iopub.status.busy": "2022-11-30T16:53:31.007035Z",
     "iopub.status.idle": "2022-11-30T16:53:31.016863Z",
     "shell.execute_reply": "2022-11-30T16:53:31.015221Z"
    },
    "papermill": {
     "duration": 0.0292,
     "end_time": "2022-11-30T16:53:31.019632",
     "exception": false,
     "start_time": "2022-11-30T16:53:30.990432",
     "status": "completed"
    },
    "tags": []
   },
   "outputs": [
    {
     "name": "stdout",
     "output_type": "stream",
     "text": [
      "(6085, 10)\n",
      "(6085,)\n",
      "(2608, 10)\n",
      "(2608,)\n"
     ]
    }
   ],
   "source": [
    "X_train,X_test,y_train,y_test=train_test_split(X,y,test_size=.30,shuffle=True,random_state=33)\n",
    "print(X_train.shape)\n",
    "print(y_train.shape)\n",
    "print(X_test.shape)\n",
    "print(y_test.shape)"
   ]
  },
  {
   "cell_type": "markdown",
   "id": "f5b1bfb8",
   "metadata": {
    "papermill": {
     "duration": 0.014535,
     "end_time": "2022-11-30T16:53:31.049176",
     "exception": false,
     "start_time": "2022-11-30T16:53:31.034641",
     "status": "completed"
    },
    "tags": []
   },
   "source": [
    "# Applying RandomForestClassifier Model "
   ]
  },
  {
   "cell_type": "code",
   "execution_count": 21,
   "id": "a34d95c8",
   "metadata": {
    "execution": {
     "iopub.execute_input": "2022-11-30T16:53:31.082224Z",
     "iopub.status.busy": "2022-11-30T16:53:31.081418Z",
     "iopub.status.idle": "2022-11-30T16:53:32.146110Z",
     "shell.execute_reply": "2022-11-30T16:53:32.144803Z"
    },
    "papermill": {
     "duration": 1.084202,
     "end_time": "2022-11-30T16:53:32.148887",
     "exception": false,
     "start_time": "2022-11-30T16:53:31.064685",
     "status": "completed"
    },
    "tags": []
   },
   "outputs": [
    {
     "data": {
      "text/plain": [
       "RandomForestClassifier(criterion='entropy', max_depth=15, random_state=33)"
      ]
     },
     "execution_count": 21,
     "metadata": {},
     "output_type": "execute_result"
    }
   ],
   "source": [
    "RandomForestClassifierModel = RandomForestClassifier(criterion = 'entropy',n_estimators=100,max_depth=15,random_state=33) #criterion can be also : entropy \n",
    "RandomForestClassifierModel.fit(X_train, y_train)"
   ]
  },
  {
   "cell_type": "markdown",
   "id": "26ae3161",
   "metadata": {
    "papermill": {
     "duration": 0.014636,
     "end_time": "2022-11-30T16:53:32.178805",
     "exception": false,
     "start_time": "2022-11-30T16:53:32.164169",
     "status": "completed"
    },
    "tags": []
   },
   "source": [
    "# Calculating Details"
   ]
  },
  {
   "cell_type": "code",
   "execution_count": 22,
   "id": "96a1f1c0",
   "metadata": {
    "execution": {
     "iopub.execute_input": "2022-11-30T16:53:32.211558Z",
     "iopub.status.busy": "2022-11-30T16:53:32.211058Z",
     "iopub.status.idle": "2022-11-30T16:53:32.410392Z",
     "shell.execute_reply": "2022-11-30T16:53:32.408926Z"
    },
    "papermill": {
     "duration": 0.218945,
     "end_time": "2022-11-30T16:53:32.413065",
     "exception": false,
     "start_time": "2022-11-30T16:53:32.194120",
     "status": "completed"
    },
    "tags": []
   },
   "outputs": [
    {
     "name": "stdout",
     "output_type": "stream",
     "text": [
      "RandomForestClassifierModel Train Score is :  0.9309778142974527\n",
      "RandomForestClassifierModel Test Score is :  0.8021472392638037\n",
      "RandomForestClassifierModel features importances are :  [0.05846314 0.10714872 0.18576338 0.11103332 0.00716065 0.11850916\n",
      " 0.09078903 0.07318173 0.12527236 0.12267851]\n"
     ]
    }
   ],
   "source": [
    "print('RandomForestClassifierModel Train Score is : ' , RandomForestClassifierModel.score(X_train, y_train))\n",
    "print('RandomForestClassifierModel Test Score is : ' , RandomForestClassifierModel.score(X_test, y_test))\n",
    "print('RandomForestClassifierModel features importances are : ' , RandomForestClassifierModel.feature_importances_)"
   ]
  },
  {
   "cell_type": "markdown",
   "id": "1d30059e",
   "metadata": {
    "papermill": {
     "duration": 0.015729,
     "end_time": "2022-11-30T16:53:32.444311",
     "exception": false,
     "start_time": "2022-11-30T16:53:32.428582",
     "status": "completed"
    },
    "tags": []
   },
   "source": [
    "# Display RandomForestClassifierModel.feature_importances_"
   ]
  },
  {
   "cell_type": "code",
   "execution_count": 23,
   "id": "7e611e6a",
   "metadata": {
    "execution": {
     "iopub.execute_input": "2022-11-30T16:53:32.477228Z",
     "iopub.status.busy": "2022-11-30T16:53:32.476758Z",
     "iopub.status.idle": "2022-11-30T16:53:32.796927Z",
     "shell.execute_reply": "2022-11-30T16:53:32.795709Z"
    },
    "papermill": {
     "duration": 0.339609,
     "end_time": "2022-11-30T16:53:32.799795",
     "exception": false,
     "start_time": "2022-11-30T16:53:32.460186",
     "status": "completed"
    },
    "tags": []
   },
   "outputs": [
    {
     "data": {
      "text/plain": [
       "<BarContainer object of 10 artists>"
      ]
     },
     "execution_count": 23,
     "metadata": {},
     "output_type": "execute_result"
    },
    {
     "data": {
      "image/png": "[encoded data removed]",
      "text/plain": [
       "<Figure size 1080x1080 with 1 Axes>"
      ]
     },
     "metadata": {
      "needs_background": "light"
     },
     "output_type": "display_data"
    }
   ],
   "source": [
    "plt.figure(figsize=(15,15))\n",
    "plt.bar(X_key,RandomForestClassifierModel.feature_importances_)"
   ]
  },
  {
   "cell_type": "markdown",
   "id": "13755ee1",
   "metadata": {
    "papermill": {
     "duration": 0.015039,
     "end_time": "2022-11-30T16:53:32.830691",
     "exception": false,
     "start_time": "2022-11-30T16:53:32.815652",
     "status": "completed"
    },
    "tags": []
   },
   "source": [
    "# Calculating Prediction"
   ]
  },
  {
   "cell_type": "code",
   "execution_count": 24,
   "id": "8dfbfd12",
   "metadata": {
    "execution": {
     "iopub.execute_input": "2022-11-30T16:53:32.863996Z",
     "iopub.status.busy": "2022-11-30T16:53:32.863518Z",
     "iopub.status.idle": "2022-11-30T16:53:32.994734Z",
     "shell.execute_reply": "2022-11-30T16:53:32.993519Z"
    },
    "papermill": {
     "duration": 0.151873,
     "end_time": "2022-11-30T16:53:32.997992",
     "exception": false,
     "start_time": "2022-11-30T16:53:32.846119",
     "status": "completed"
    },
    "tags": []
   },
   "outputs": [
    {
     "name": "stdout",
     "output_type": "stream",
     "text": [
      "Predicted Value for RandomForestClassifierModel is :  [0 0 0 0 1 0 0 0 0 1]\n",
      "Prediction Probabilities Value for RandomForestClassifierModel is :  [[0.85683053 0.14316947]\n",
      " [0.52712339 0.47287661]\n",
      " [0.97532345 0.02467655]\n",
      " [0.91556566 0.08443434]\n",
      " [0.34258926 0.65741074]\n",
      " [0.80637356 0.19362644]\n",
      " [0.86796831 0.13203169]\n",
      " [0.93703496 0.06296504]\n",
      " [0.79197351 0.20802649]\n",
      " [0.2483937  0.7516063 ]]\n"
     ]
    }
   ],
   "source": [
    "y_pred = RandomForestClassifierModel.predict(X_test)\n",
    "y_pred_prob = RandomForestClassifierModel.predict_proba(X_test)\n",
    "print('Predicted Value for RandomForestClassifierModel is : ' , y_pred[:10])\n",
    "print('Prediction Probabilities Value for RandomForestClassifierModel is : ' , y_pred_prob[:10])"
   ]
  },
  {
   "cell_type": "markdown",
   "id": "8f94f20a",
   "metadata": {
    "papermill": {
     "duration": 0.016107,
     "end_time": "2022-11-30T16:53:33.030806",
     "exception": false,
     "start_time": "2022-11-30T16:53:33.014699",
     "status": "completed"
    },
    "tags": []
   },
   "source": [
    "# Calculating Confusion Matrix"
   ]
  },
  {
   "cell_type": "code",
   "execution_count": 25,
   "id": "23f326ef",
   "metadata": {
    "execution": {
     "iopub.execute_input": "2022-11-30T16:53:33.064322Z",
     "iopub.status.busy": "2022-11-30T16:53:33.063854Z",
     "iopub.status.idle": "2022-11-30T16:53:33.074534Z",
     "shell.execute_reply": "2022-11-30T16:53:33.072540Z"
    },
    "papermill": {
     "duration": 0.030855,
     "end_time": "2022-11-30T16:53:33.077440",
     "exception": false,
     "start_time": "2022-11-30T16:53:33.046585",
     "status": "completed"
    },
    "tags": []
   },
   "outputs": [
    {
     "name": "stdout",
     "output_type": "stream",
     "text": [
      "Confusion Matrix is : \n",
      " [[1035  262]\n",
      " [ 254 1057]]\n"
     ]
    }
   ],
   "source": [
    "CM = confusion_matrix(y_test, y_pred)\n",
    "print('Confusion Matrix is : \\n', CM)"
   ]
  },
  {
   "cell_type": "markdown",
   "id": "bb464715",
   "metadata": {
    "papermill": {
     "duration": 0.01551,
     "end_time": "2022-11-30T16:53:33.109560",
     "exception": false,
     "start_time": "2022-11-30T16:53:33.094050",
     "status": "completed"
    },
    "tags": []
   },
   "source": [
    "# drawing confusion matrix"
   ]
  },
  {
   "cell_type": "code",
   "execution_count": 26,
   "id": "68a2f5cb",
   "metadata": {
    "execution": {
     "iopub.execute_input": "2022-11-30T16:53:33.143270Z",
     "iopub.status.busy": "2022-11-30T16:53:33.142745Z",
     "iopub.status.idle": "2022-11-30T16:53:33.384841Z",
     "shell.execute_reply": "2022-11-30T16:53:33.383592Z"
    },
    "papermill": {
     "duration": 0.26198,
     "end_time": "2022-11-30T16:53:33.387414",
     "exception": false,
     "start_time": "2022-11-30T16:53:33.125434",
     "status": "completed"
    },
    "tags": []
   },
   "outputs": [
    {
     "data": {
      "text/plain": [
       "<AxesSubplot:>"
      ]
     },
     "execution_count": 26,
     "metadata": {},
     "output_type": "execute_result"
    },
    {
     "data": {
      "image/png": "[encoded data removed]",
      "text/plain": [
       "<Figure size 432x288 with 2 Axes>"
      ]
     },
     "metadata": {
      "needs_background": "light"
     },
     "output_type": "display_data"
    }
   ],
   "source": [
    "plt.figure()\n",
    "sns.heatmap(CM, center = True)"
   ]
  },
  {
   "cell_type": "markdown",
   "id": "b98e6a7f",
   "metadata": {
    "papermill": {
     "duration": 0.015489,
     "end_time": "2022-11-30T16:53:33.418880",
     "exception": false,
     "start_time": "2022-11-30T16:53:33.403391",
     "status": "completed"
    },
    "tags": []
   },
   "source": [
    "# Calculating Confusion Matrix"
   ]
  },
  {
   "cell_type": "code",
   "execution_count": 27,
   "id": "c0c1a890",
   "metadata": {
    "execution": {
     "iopub.execute_input": "2022-11-30T16:53:33.453708Z",
     "iopub.status.busy": "2022-11-30T16:53:33.452819Z",
     "iopub.status.idle": "2022-11-30T16:53:33.576249Z",
     "shell.execute_reply": "2022-11-30T16:53:33.574935Z"
    },
    "papermill": {
     "duration": 0.144822,
     "end_time": "2022-11-30T16:53:33.579536",
     "exception": false,
     "start_time": "2022-11-30T16:53:33.434714",
     "status": "completed"
    },
    "tags": []
   },
   "outputs": [
    {
     "name": "stdout",
     "output_type": "stream",
     "text": [
      "Confusion Matrix is : \n",
      " [[2756  262]\n",
      " [ 158 2909]]\n"
     ]
    }
   ],
   "source": [
    "CM = confusion_matrix(y_train,RandomForestClassifierModel.predict(X_train))\n",
    "print('Confusion Matrix is : \\n', CM)"
   ]
  },
  {
   "cell_type": "markdown",
   "id": "f857c7ae",
   "metadata": {
    "papermill": {
     "duration": 0.015703,
     "end_time": "2022-11-30T16:53:33.611172",
     "exception": false,
     "start_time": "2022-11-30T16:53:33.595469",
     "status": "completed"
    },
    "tags": []
   },
   "source": [
    "# drawing confusion matrix"
   ]
  },
  {
   "cell_type": "code",
   "execution_count": 28,
   "id": "84c3bfbc",
   "metadata": {
    "execution": {
     "iopub.execute_input": "2022-11-30T16:53:33.645890Z",
     "iopub.status.busy": "2022-11-30T16:53:33.644983Z",
     "iopub.status.idle": "2022-11-30T16:53:33.887939Z",
     "shell.execute_reply": "2022-11-30T16:53:33.886595Z"
    },
    "papermill": {
     "duration": 0.263432,
     "end_time": "2022-11-30T16:53:33.890681",
     "exception": false,
     "start_time": "2022-11-30T16:53:33.627249",
     "status": "completed"
    },
    "tags": []
   },
   "outputs": [
    {
     "data": {
      "text/plain": [
       "<AxesSubplot:>"
      ]
     },
     "execution_count": 28,
     "metadata": {},
     "output_type": "execute_result"
    },
    {
     "data": {
      "image/png": "[encoded data removed]",
      "text/plain": [
       "<Figure size 432x288 with 2 Axes>"
      ]
     },
     "metadata": {
      "needs_background": "light"
     },
     "output_type": "display_data"
    }
   ],
   "source": [
    "plt.figure()\n",
    "sns.heatmap(CM, center = True)"
   ]
  },
  {
   "cell_type": "markdown",
   "id": "e9124fa6",
   "metadata": {
    "papermill": {
     "duration": 0.016847,
     "end_time": "2022-11-30T16:53:33.925275",
     "exception": false,
     "start_time": "2022-11-30T16:53:33.908428",
     "status": "completed"
    },
    "tags": []
   },
   "source": [
    "# Calculating classification Report"
   ]
  },
  {
   "cell_type": "code",
   "execution_count": 29,
   "id": "95851ec0",
   "metadata": {
    "execution": {
     "iopub.execute_input": "2022-11-30T16:53:33.960931Z",
     "iopub.status.busy": "2022-11-30T16:53:33.960443Z",
     "iopub.status.idle": "2022-11-30T16:53:33.977518Z",
     "shell.execute_reply": "2022-11-30T16:53:33.976145Z"
    },
    "papermill": {
     "duration": 0.037705,
     "end_time": "2022-11-30T16:53:33.980097",
     "exception": false,
     "start_time": "2022-11-30T16:53:33.942392",
     "status": "completed"
    },
    "tags": []
   },
   "outputs": [
    {
     "name": "stdout",
     "output_type": "stream",
     "text": [
      "Classification Report is :                precision    recall  f1-score   support\n",
      "\n",
      "           0       0.80      0.80      0.80      1297\n",
      "           1       0.80      0.81      0.80      1311\n",
      "\n",
      "    accuracy                           0.80      2608\n",
      "   macro avg       0.80      0.80      0.80      2608\n",
      "weighted avg       0.80      0.80      0.80      2608\n",
      "\n"
     ]
    }
   ],
   "source": [
    "ClassificationReport = classification_report(y_test,y_pred)\n",
    "print('Classification Report is : ', ClassificationReport )"
   ]
  },
  {
   "cell_type": "code",
   "execution_count": 30,
   "id": "452be835",
   "metadata": {
    "execution": {
     "iopub.execute_input": "2022-11-30T16:53:34.015513Z",
     "iopub.status.busy": "2022-11-30T16:53:34.014729Z",
     "iopub.status.idle": "2022-11-30T16:53:34.101039Z",
     "shell.execute_reply": "2022-11-30T16:53:34.099593Z"
    },
    "papermill": {
     "duration": 0.107161,
     "end_time": "2022-11-30T16:53:34.103850",
     "exception": false,
     "start_time": "2022-11-30T16:53:33.996689",
     "status": "completed"
    },
    "tags": []
   },
   "outputs": [
    {
     "data": {
      "text/html": [
       "<div>\n",
       "<style scoped>\n",
       "    .dataframe tbody tr th:only-of-type {\n",
       "        vertical-align: middle;\n",
       "    }\n",
       "\n",
       "    .dataframe tbody tr th {\n",
       "        vertical-align: top;\n",
       "    }\n",
       "\n",
       "    .dataframe thead th {\n",
       "        text-align: right;\n",
       "    }\n",
       "</style>\n",
       "<table border=\"1\" class=\"dataframe\">\n",
       "  <thead>\n",
       "    <tr style=\"text-align: right;\">\n",
       "      <th></th>\n",
       "      <th>Transported</th>\n",
       "    </tr>\n",
       "    <tr>\n",
       "      <th>PassengerId</th>\n",
       "      <th></th>\n",
       "    </tr>\n",
       "  </thead>\n",
       "  <tbody>\n",
       "    <tr>\n",
       "      <th>0013_01</th>\n",
       "      <td>True</td>\n",
       "    </tr>\n",
       "    <tr>\n",
       "      <th>0018_01</th>\n",
       "      <td>False</td>\n",
       "    </tr>\n",
       "    <tr>\n",
       "      <th>0019_01</th>\n",
       "      <td>True</td>\n",
       "    </tr>\n",
       "    <tr>\n",
       "      <th>0021_01</th>\n",
       "      <td>False</td>\n",
       "    </tr>\n",
       "    <tr>\n",
       "      <th>0023_01</th>\n",
       "      <td>False</td>\n",
       "    </tr>\n",
       "    <tr>\n",
       "      <th>...</th>\n",
       "      <td>...</td>\n",
       "    </tr>\n",
       "    <tr>\n",
       "      <th>9266_02</th>\n",
       "      <td>True</td>\n",
       "    </tr>\n",
       "    <tr>\n",
       "      <th>9269_01</th>\n",
       "      <td>False</td>\n",
       "    </tr>\n",
       "    <tr>\n",
       "      <th>9271_01</th>\n",
       "      <td>True</td>\n",
       "    </tr>\n",
       "    <tr>\n",
       "      <th>9273_01</th>\n",
       "      <td>False</td>\n",
       "    </tr>\n",
       "    <tr>\n",
       "      <th>9277_01</th>\n",
       "      <td>True</td>\n",
       "    </tr>\n",
       "  </tbody>\n",
       "</table>\n",
       "<p>4277 rows × 1 columns</p>\n",
       "</div>"
      ],
      "text/plain": [
       "            Transported\n",
       "PassengerId            \n",
       "0013_01            True\n",
       "0018_01           False\n",
       "0019_01            True\n",
       "0021_01           False\n",
       "0023_01           False\n",
       "...                 ...\n",
       "9266_02            True\n",
       "9269_01           False\n",
       "9271_01            True\n",
       "9273_01           False\n",
       "9277_01            True\n",
       "\n",
       "[4277 rows x 1 columns]"
      ]
     },
     "execution_count": 30,
     "metadata": {},
     "output_type": "execute_result"
    }
   ],
   "source": [
    "test_pred=RandomForestClassifierModel.predict(test_data)\n",
    "pred=[]\n",
    "for i in test_pred:\n",
    "    if i==1:\n",
    "        pred.append('True')\n",
    "    else:\n",
    "        pred.append('False')\n",
    "submision=pd.DataFrame(pred,columns=['Transported'],index=index)\n",
    "submision.to_csv('/kaggle/working/prediction.csv')\n",
    "submision"
   ]
  }
 ],
 "metadata": {
  "kernelspec": {
   "display_name": "Python 3",
   "language": "python",
   "name": "python3"
  },
  "language_info": {
   "codemirror_mode": {
    "name": "ipython",
    "version": 3
   },
   "file_extension": ".py",
   "mimetype": "text/x-python",
   "name": "python",
   "nbconvert_exporter": "python",
   "pygments_lexer": "ipython3",
   "version": "3.7.12"
  },
  "papermill": {
   "default_parameters": {},
   "duration": 16.764174,
   "end_time": "2022-11-30T16:53:35.152359",
   "environment_variables": {},
   "exception": null,
   "input_path": "__notebook__.ipynb",
   "output_path": "__notebook__.ipynb",
   "parameters": {},
   "start_time": "2022-11-30T16:53:18.388185",
   "version": "2.3.4"
  }
 },
 "nbformat": 4,
 "nbformat_minor": 5
}
